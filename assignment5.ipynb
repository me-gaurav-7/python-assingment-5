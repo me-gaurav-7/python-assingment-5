{
 "cells": [
  {
   "cell_type": "code",
   "execution_count": 1,
   "id": "f5fbc259-e9b7-4b58-98ba-e2373662a6dd",
   "metadata": {},
   "outputs": [],
   "source": [
    "#Create an emplty list\n",
    "l = []"
   ]
  },
  {
   "cell_type": "code",
   "execution_count": 2,
   "id": "59380478-de59-4d4b-b3f5-203dd14bcd1c",
   "metadata": {},
   "outputs": [
    {
     "data": {
      "text/plain": [
       "[]"
      ]
     },
     "execution_count": 2,
     "metadata": {},
     "output_type": "execute_result"
    }
   ],
   "source": [
    "l"
   ]
  },
  {
   "cell_type": "code",
   "execution_count": 3,
   "id": "58c4b181-e8f5-403f-ac68-27d426a5ad4e",
   "metadata": {},
   "outputs": [],
   "source": [
    "#Create a list\n",
    "my_list = [1,2,3,4,5]"
   ]
  },
  {
   "cell_type": "code",
   "execution_count": 4,
   "id": "5216fe3a-2060-4358-8c77-2bb4f047f702",
   "metadata": {},
   "outputs": [],
   "source": [
    "#Adding an element to the end of the list\n",
    "my_list.append(6)"
   ]
  },
  {
   "cell_type": "code",
   "execution_count": 5,
   "id": "76c4569b-6a75-411f-9f35-a5d515bffb24",
   "metadata": {},
   "outputs": [
    {
     "name": "stdout",
     "output_type": "stream",
     "text": [
      "[1, 2, 3, 4, 5, 6]\n"
     ]
    }
   ],
   "source": [
    "#Printing the update list\n",
    "print(my_list)"
   ]
  },
  {
   "cell_type": "code",
   "execution_count": 6,
   "id": "25eb9c08-5dd1-4e9b-8ba1-041f789c8797",
   "metadata": {},
   "outputs": [],
   "source": [
    "#Create a list\n",
    "my_list = [1,2,3,4,5,6]"
   ]
  },
  {
   "cell_type": "code",
   "execution_count": 7,
   "id": "72f63e82-3a4f-4dce-aa53-2e62ea68c3cd",
   "metadata": {},
   "outputs": [],
   "source": [
    "#Printing the last element\n",
    "last_element = my_list[-1]"
   ]
  },
  {
   "cell_type": "code",
   "execution_count": 8,
   "id": "e65b89b9-a70a-4e78-ac8e-5364eb41bf4e",
   "metadata": {},
   "outputs": [
    {
     "name": "stdout",
     "output_type": "stream",
     "text": [
      "6\n"
     ]
    }
   ],
   "source": [
    "print(last_element)"
   ]
  },
  {
   "cell_type": "code",
   "execution_count": 9,
   "id": "06fe25cd-8b84-46da-a434-605f0bd2ca1b",
   "metadata": {},
   "outputs": [],
   "source": [
    "#Creating a list\n",
    "my_list = [1,2,3,4,5,6]"
   ]
  },
  {
   "cell_type": "code",
   "execution_count": 10,
   "id": "86ad3282-53bf-4cdf-9d9e-5cd0d0abe1fa",
   "metadata": {},
   "outputs": [],
   "source": [
    "#Reversingh the list using reverse() method\n",
    "my_list.reverse()"
   ]
  },
  {
   "cell_type": "code",
   "execution_count": 12,
   "id": "a2ea81ab-0fbb-4c4b-8c5d-573227900d0c",
   "metadata": {},
   "outputs": [
    {
     "name": "stdout",
     "output_type": "stream",
     "text": [
      "[6, 5, 4, 3, 2, 1]\n"
     ]
    }
   ],
   "source": [
    "#Printing the reversed list\n",
    "print(my_list)"
   ]
  },
  {
   "cell_type": "code",
   "execution_count": 13,
   "id": "90a2deb7-83ca-4fdb-a0dc-b9ba9fbbd724",
   "metadata": {},
   "outputs": [],
   "source": [
    "#Create a list\n",
    "my_list = [1,6,4,2,5,3]"
   ]
  },
  {
   "cell_type": "code",
   "execution_count": 14,
   "id": "703bf7f2-1eca-4f07-9f6e-1b9a7bb5f123",
   "metadata": {},
   "outputs": [],
   "source": [
    "#Sorting the list in ascending order\n",
    "my_list.sort()"
   ]
  },
  {
   "cell_type": "code",
   "execution_count": 15,
   "id": "613777cd-63dc-4bac-90f7-8dc1d1751a13",
   "metadata": {},
   "outputs": [
    {
     "name": "stdout",
     "output_type": "stream",
     "text": [
      "[1, 2, 3, 4, 5, 6]\n"
     ]
    }
   ],
   "source": [
    "#Printing the sorted list\n",
    "print(my_list)"
   ]
  },
  {
   "cell_type": "code",
   "execution_count": 18,
   "id": "ab523b8d-5254-4df5-8b41-256012025c98",
   "metadata": {},
   "outputs": [],
   "source": [
    "#Creating a list of favroite movies\n",
    "favorite_movies = [\"Inception\", \"The Shawshank Redemption\", \"Pulp Fiction\"] "
   ]
  },
  {
   "cell_type": "code",
   "execution_count": 19,
   "id": "87f8499a-c47c-4270-a5df-6ea0c3ca7855",
   "metadata": {},
   "outputs": [],
   "source": [
    "#Printing the title of the second movie\n",
    "second_movie = favorite_movies[1]"
   ]
  },
  {
   "cell_type": "code",
   "execution_count": 20,
   "id": "e7f6229d-7e8d-4041-96cd-10c93bdd2685",
   "metadata": {},
   "outputs": [
    {
     "name": "stdout",
     "output_type": "stream",
     "text": [
      "The Shawshank Redemption\n"
     ]
    }
   ],
   "source": [
    "print(second_movie)"
   ]
  },
  {
   "cell_type": "code",
   "execution_count": 22,
   "id": "30993db5-41a6-47aa-b51c-94ad39ed41de",
   "metadata": {},
   "outputs": [],
   "source": [
    "# Creating a list of favorite animals\n",
    "favorite_animals = [\"Dog\", \"Cat\", \"Elephant\"]"
   ]
  },
  {
   "cell_type": "code",
   "execution_count": 23,
   "id": "9c7992e7-f4c7-4ef9-a485-5e1715a48c8a",
   "metadata": {},
   "outputs": [],
   "source": [
    "# Adding a new animal to the list\n",
    "favorite_animals.append(\"Lion\")"
   ]
  },
  {
   "cell_type": "code",
   "execution_count": 24,
   "id": "baae0311-cee9-4267-974c-15a19979aa28",
   "metadata": {},
   "outputs": [
    {
     "name": "stdout",
     "output_type": "stream",
     "text": [
      "['Dog', 'Cat', 'Elephant', 'Lion']\n"
     ]
    }
   ],
   "source": [
    "# Printing the updated list\n",
    "print(favorite_animals)"
   ]
  },
  {
   "cell_type": "code",
   "execution_count": 25,
   "id": "7788036e-2260-4742-9d89-1d2db9dcb277",
   "metadata": {},
   "outputs": [],
   "source": [
    "# Creating a list of favorite cities\n",
    "favorite_cities = [\"Paris\", \"New York\", \"Tokyo\", \"London\"]"
   ]
  },
  {
   "cell_type": "code",
   "execution_count": 26,
   "id": "27818329-5ded-441e-958b-aa69c5b259f9",
   "metadata": {},
   "outputs": [],
   "source": [
    "# Finding the position of a specific city\n",
    "city = \"Tokyo\"\n",
    "city_position = favorite_cities.index(city)"
   ]
  },
  {
   "cell_type": "code",
   "execution_count": 27,
   "id": "ed3a7d77-bdfc-4ce5-b79a-049ac7ec39ff",
   "metadata": {},
   "outputs": [
    {
     "name": "stdout",
     "output_type": "stream",
     "text": [
      "The position of Tokyo in the list is: 2\n"
     ]
    }
   ],
   "source": [
    "# Printing the position of the city\n",
    "print(\"The position of\", city, \"in the list is:\", city_position)"
   ]
  }
 ],
 "metadata": {
  "kernelspec": {
   "display_name": "Python 3 (ipykernel)",
   "language": "python",
   "name": "python3"
  },
  "language_info": {
   "codemirror_mode": {
    "name": "ipython",
    "version": 3
   },
   "file_extension": ".py",
   "mimetype": "text/x-python",
   "name": "python",
   "nbconvert_exporter": "python",
   "pygments_lexer": "ipython3",
   "version": "3.10.8"
  },
  "toc-autonumbering": true
 },
 "nbformat": 4,
 "nbformat_minor": 5
}
